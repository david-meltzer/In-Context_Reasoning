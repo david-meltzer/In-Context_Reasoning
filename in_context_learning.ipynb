{
 "cells": [
  {
   "cell_type": "code",
   "execution_count": 798,
   "id": "ed213bad-e5fe-4ce7-a29e-c4276d253ade",
   "metadata": {
    "tags": []
   },
   "outputs": [],
   "source": [
    "import numpy as np\n",
    "import pandas as pd\n",
    "import pickle\n",
    "import matplotlib.pyplot as plt\n"
   ]
  },
  {
   "cell_type": "markdown",
   "id": "54dde84c-48d2-4997-be6c-0106009c307a",
   "metadata": {},
   "source": [
    "This section is incomplete and should be ignored. I attempted to see if LLMs can learn patterns in lists of numbers,"
   ]
  },
  {
   "cell_type": "code",
   "execution_count": null,
   "id": "6e354af2-ab81-42e9-93c8-f92f676a17e7",
   "metadata": {},
   "outputs": [],
   "source": [
    "import random\n",
    "import sympy\n",
    "\n",
    "def median_generator(n, max_val, prime):\n",
    "    \"\"\"\n",
    "    Generate a sorted list of length 2n+1 where the median is either prime or not prime.\n",
    "    \n",
    "    Parameters:\n",
    "    n (int): The number defining the length of the list as 2n+1.\n",
    "    max_val (int): The maximum value from which numbers can be randomly selected.\n",
    "    prime (bool): If True, the median will be a prime number; otherwise, it will not be prime.\n",
    "\n",
    "    Returns:\n",
    "    list: A sorted list of length 2n+1 with the specified properties.\n",
    "    \"\"\"\n",
    "    # Helper function to generate a random prime number\n",
    "    def generate_prime(max_val):\n",
    "        while True:\n",
    "            num = random.randint(1, max_val)\n",
    "            if sympy.isprime(num):\n",
    "                return num\n",
    "\n",
    "    # Helper function to generate a random non-prime number\n",
    "    def generate_non_prime(max_val):\n",
    "        while True:\n",
    "            num = random.randint(1, max_val)\n",
    "            if not sympy.isprime(num):\n",
    "                return num\n",
    "\n",
    "    # Generate the median based on the 'prime' parameter\n",
    "    if prime:\n",
    "        median = generate_prime(max_val)\n",
    "    else:\n",
    "        median = generate_non_prime(max_val)\n",
    "\n",
    "    # Generate random numbers for the rest of the list\n",
    "    random_numbers = [random.randint(1, max_val) for _ in range(2 * n)]\n",
    "\n",
    "    # Insert the median into the correct position to maintain the sorted order\n",
    "    random_numbers.append(median)\n",
    "    random_numbers.sort()\n",
    "\n",
    "    return random_numbers\n",
    "\n",
    "# Example usage\n",
    "print(median_generator(3, 50, True))  # Example with prime median\n",
    "print(median_generator(3, 50, False)) # Example with non-prime median\n",
    "\n"
   ]
  },
  {
   "cell_type": "code",
   "execution_count": null,
   "id": "1459894d-d0ca-4cce-8801-c1c0185786a2",
   "metadata": {
    "tags": []
   },
   "outputs": [],
   "source": [
    "median_generator(2, 100, True)"
   ]
  },
  {
   "cell_type": "code",
   "execution_count": null,
   "id": "00475ef0-9309-4f16-90d1-8a513015489e",
   "metadata": {
    "tags": []
   },
   "outputs": [],
   "source": [
    "def make_list(max_length, max_val, prime):\n",
    "    \"\"\"\n",
    "    Create a list containing a prime number and two sorted sublists: one in the range [1, prime-1]\n",
    "    and another in the range [prime+1, max_val]. Each sublist is of size min(max_length, prime-1)\n",
    "    or min(max_length, max_val-prime) respectively.\n",
    "\n",
    "    Parameters:\n",
    "    max_length (int): The maximum length of each sublist.\n",
    "    max_val (int): The maximum value for the prime number and the upper bound of the range.\n",
    "    prime (bool): If True, includes a prime number in the list.\n",
    "\n",
    "    Returns:\n",
    "    list: A list containing a prime number and two sorted sublists.\n",
    "    \"\"\"\n",
    "    # Helper function to generate a random prime number\n",
    "    def generate_prime(max_val):\n",
    "        while True:\n",
    "            num = random.randint(1, max_val)\n",
    "            if sympy.isprime(num):\n",
    "                return num\n",
    "\n",
    "    # Helper function to generate a random non-prime number\n",
    "    def generate_non_prime(max_val):\n",
    "        while True:\n",
    "            num = random.randint(1, max_val)\n",
    "            if not sympy.isprime(num):\n",
    "                return num\n",
    "\n",
    "    # Generate a random prime number within the range\n",
    "    if prime:\n",
    "        median = generate_prime(max_val)\n",
    "    else:\n",
    "        median = generate_non_prime(max_val)\n",
    "    \n",
    "    # Generate the two sorted sublists\n",
    "    sublist1 = sorted(random.sample(range(1, median), min(max_length, median-1,max_val - median)))\n",
    "    sublist2 = sorted(random.sample(range(median + 1, max_val + 1), min(max_length, median-1,max_val - median)))\n",
    "\n",
    "    return sublist1 + [median] + sublist2\n",
    "\n",
    "# Test the function\n",
    "print(make_list(5, 50, True))  # Example with prime included\n",
    "print(make_list(5, 50, False)) # Example without prime (should return an empty list)"
   ]
  },
  {
   "cell_type": "code",
   "execution_count": null,
   "id": "2e0e3f55-4850-461b-a992-6849b23c6a08",
   "metadata": {
    "tags": []
   },
   "outputs": [],
   "source": [
    "def make_list(max_length, max_val, prime):\n",
    "    \"\"\"\n",
    "    Create a list containing a prime number and two sorted sublists: one in the range [1, prime-1]\n",
    "    and another in the range [prime+1, max_val]. Each sublist is of size min(max_length, prime-1)\n",
    "    or min(max_length, max_val-prime) respectively.\n",
    "\n",
    "    Parameters:\n",
    "    max_length (int): The maximum length of each sublist.\n",
    "    max_val (int): The maximum value for the prime number and the upper bound of the range.\n",
    "    prime (bool): If True, includes a prime number in the list.\n",
    "\n",
    "    Returns:\n",
    "    list: A list containing a prime number and two sorted sublists.\n",
    "    \"\"\"\n",
    "    # Helper function to generate a random prime number\n",
    "    def generate_prime(max_val):\n",
    "        while True:\n",
    "            num = random.randint(1, max_val)\n",
    "            if sympy.isprime(num):\n",
    "                return num\n",
    "\n",
    "    # Helper function to generate a random non-prime number\n",
    "    def generate_non_prime(max_val):\n",
    "        while True:\n",
    "            num = random.randint(1, max_val)\n",
    "            if not sympy.isprime(num):\n",
    "                return num\n",
    "    \n",
    "    lst = sorted(random.sample(range(1, max_val), max_length))\n",
    "    \n",
    "    if prime:\n",
    "        el = generate_prime(max_val)\n",
    "    else:\n",
    "        el = generate_non_prime(max_val)\n",
    "\n",
    "    return [el]+lst\n",
    "\n",
    "# Test the function\n",
    "print(make_list(5, 50, True))  # Example with prime included\n",
    "print(make_list(5, 50, False)) # Example without prime (should return an empty list)"
   ]
  },
  {
   "cell_type": "code",
   "execution_count": null,
   "id": "7801432d-5299-4563-8c8d-44791e8a359d",
   "metadata": {
    "tags": []
   },
   "outputs": [],
   "source": [
    "for _ in range(100000):\n",
    "    lst=make_list(5, 100, True)\n",
    "    if not sympy.isprime(lst[len(lst)//2]):\n",
    "        print(\"DANGER\")\n",
    "    break"
   ]
  },
  {
   "cell_type": "code",
   "execution_count": null,
   "id": "03c2315c-90f4-47a4-9927-7cdb32c50a7b",
   "metadata": {
    "tags": []
   },
   "outputs": [],
   "source": [
    "for _ in range(100000):\n",
    "    lst=make_list(5, 100, False)\n",
    "    if sympy.isprime(lst[len(lst)//2]):\n",
    "        print(\"DANGER\")"
   ]
  },
  {
   "cell_type": "code",
   "execution_count": null,
   "id": "fd87e8b4-a21c-4349-9f12-5703b7f79c2b",
   "metadata": {
    "tags": []
   },
   "outputs": [],
   "source": []
  },
  {
   "cell_type": "code",
   "execution_count": null,
   "id": "6bf888ee-bccb-4c40-9cfc-37d4583ea423",
   "metadata": {
    "tags": []
   },
   "outputs": [],
   "source": []
  },
  {
   "cell_type": "code",
   "execution_count": null,
   "id": "86ff47b1-32f5-4608-a3b3-d8f880de5b64",
   "metadata": {
    "tags": []
   },
   "outputs": [],
   "source": [
    "def make_list(max_length, max_val, even):\n",
    "    \"\"\"\n",
    "    Create a list containing a prime number and two sorted sublists: one in the range [1, prime-1]\n",
    "    and another in the range [prime+1, max_val]. Each sublist is of size min(max_length, prime-1)\n",
    "    or min(max_length, max_val-prime) respectively.\n",
    "\n",
    "    Parameters:\n",
    "    max_length (int): The maximum length of each sublist.\n",
    "    max_val (int): The maximum value for the prime number and the upper bound of the range.\n",
    "    prime (bool): If True, includes a prime number in the list.\n",
    "\n",
    "    Returns:\n",
    "    list: A list containing a prime number and two sorted sublists.\n",
    "    \"\"\"\n",
    "    # Helper function to generate a random prime number\n",
    "    def generate_num(even): \n",
    "        while True:\n",
    "            num = random.randint(1,max_val)\n",
    "            if even and num%2==0:\n",
    "                return num\n",
    "            if not even and num%2==1:\n",
    "                return num\n",
    "    \n",
    "    el = generate_num(even)\n",
    "    lst = random.sample(range(1, max_val), max_length)\n",
    "    return [el]+lst\n",
    "\n",
    "# Test the function\n",
    "def create_example(max_length,max_val):\n",
    "    is_even = random.randint(0,1)\n",
    "    return (make_list(max_length,max_val,is_even),is_even)\n",
    "\n",
    "def generate_lsts(num_examples, max_length,max_val):\n",
    "    results = []\n",
    "    for _ in range(num_examples):\n",
    "        results.append(create_example(max_length,max_val))\n",
    "    return results\n",
    "\n",
    "def convert_to_str(example):\n",
    "    return f'Input: {str(example[0])}, Output: {str(bool(example[1]))}'\n",
    "\n",
    "def convert_all(examples):\n",
    "    return list(map(lambda x:convert_to_str(x),examples))\n",
    "\n",
    "examples = generate_lsts(5, 5,1000)\n",
    "\n",
    "print('\\n'.join(convert_all(examples)))"
   ]
  },
  {
   "cell_type": "code",
   "execution_count": null,
   "id": "62088f10-3599-444a-a22e-0d228764c7ac",
   "metadata": {
    "tags": []
   },
   "outputs": [],
   "source": [
    "import os\n",
    "from openai import OpenAI\n",
    "API_KEY = os.getenv('OPENAI_API_KEY')  # Retrieve API key from environment variable\n",
    "client = OpenAI(api_key=API_KEY)\n",
    "\n",
    "\n",
    "\n",
    "def get_gpt_response(num_examples, max_length,max_val):\n",
    "    \n",
    "    examples = generate_lsts(num_examples, max_length, max_val)\n",
    "    \n",
    "    system_message = \"\"\"I will give you a series of input and output pairs. The input is a list and the output is either True or False.\n",
    "    You need to predict the output for the final list. The prediction should be the string 'True' or 'False' and nothing else. \n",
    "    Please output the result in the following format:\n",
    "    \n",
    "    REASONING: {{{Put your reasoning for your answer here. Please think step by step.}}}\n",
    "    PREDICTION: {{{prediction}}}\n",
    "    \n",
    "    Note that your reasoning should work for every example I give you. If the rule does not work for every example, it is not valid.\n",
    "    \n",
    "    \"\"\"\n",
    "    system_message += '\\n'+'\\n'.join(convert_all(examples))\n",
    "    print('\\n'.join(convert_all(examples)))\n",
    "    \n",
    "    last = create_example(max_length, \n",
    "                   max_val)\n",
    "    \n",
    "    prompt = f'Input: {last[0]}, Output: '\n",
    "    \n",
    "    response = client.chat.completions.create(\n",
    "        messages=[\n",
    "            {\"role\": \"system\", \"content\": system_message},\n",
    "            {\"role\": \"user\", \"content\": prompt},\n",
    "        ],\n",
    "        model=\"gpt-4\",\n",
    "        temperature=0,\n",
    "    )\n",
    "    res = response.choices[0].message.content\n",
    "    return (res,bool(last[1]))"
   ]
  },
  {
   "cell_type": "code",
   "execution_count": null,
   "id": "3306875d-f8b8-4ac7-bf9a-8c0f7a75d1e8",
   "metadata": {
    "tags": []
   },
   "outputs": [],
   "source": [
    "get_gpt_response(20, 1,100)"
   ]
  },
  {
   "cell_type": "markdown",
   "id": "38b7597e-a4f6-4430-81e0-84a9b4db2c6d",
   "metadata": {
    "tags": []
   },
   "source": [
    "# English Spelling"
   ]
  },
  {
   "cell_type": "markdown",
   "id": "9612cbf4-0696-4cdd-ae7f-fbeece077c07",
   "metadata": {
    "tags": []
   },
   "source": [
    "## Set-up"
   ]
  },
  {
   "cell_type": "code",
   "execution_count": 820,
   "id": "ebebf070-dc3f-4364-8763-8ab274104940",
   "metadata": {
    "tags": []
   },
   "outputs": [],
   "source": [
    "def convert_example(example):\n",
    "    return f'Input: {example[0]} ### Output: {example[1]}'\n",
    "def convert_all(examples):\n",
    "    lst = list(map(convert_example,examples))\n",
    "    return '\\n'.join(lst)"
   ]
  },
  {
   "cell_type": "code",
   "execution_count": 814,
   "id": "0f3ac210-4f14-46d0-bd2b-cde90fb7f632",
   "metadata": {
    "tags": []
   },
   "outputs": [],
   "source": [
    "sentence_list=[('The center was closed on Saturday', True),\n",
    " ('I need to organize my schedule.', True),\n",
    " ('The colour of the sky is beautiful.', False),\n",
    " ('She will practise piano tomorrow.', False),\n",
    " ('Check the tire pressure.', True),\n",
    " ('The theater was packed with people.', True),\n",
    " ('I love the flavor of this ice cream.', True),\n",
    " (\"It's my favourite movie of all time.\", False),\n",
    " ('She realized she was lost.', True),\n",
    " ('The program was updated successfully.', True),\n",
    " ('Honour your commitments.', False),\n",
    " ('He specializes in marine biology.', True),\n",
    " ('Traveling can be very enlightening.', True),\n",
    " ('The defence was well-prepared.', False),\n",
    " ('Check the catalog for more items.', True),\n",
    " ('It was an arduous endeavour.', False),\n",
    " ('Her favorite genre is fantasy.', True),\n",
    " ('The tyre burst on the highway.', False),\n",
    " ('Analyze the data carefully.', True),\n",
    " ('The colours of the flag are vibrant.', False),\n",
    " ('She has a marvellous sense of style.', False),\n",
    " ('The humor in the book is subtle.', True),\n",
    " ('His behaviour was quite unusual.', False),\n",
    " ('We need to finalize the report.', True),\n",
    " ('The metre of the poem is irregular.', False),\n",
    " ('Organize the files by category.', True),\n",
    " ('She will analyse the results tomorrow.', False),\n",
    " ('His favorite movie is a classic comedy.', True),\n",
    " ('The neighbour was very kind and helpful.', False),\n",
    " ('The airplane took off amidst the clouds.', True),\n",
    " ('The flavour of the cake was exquisite.', False),\n",
    " ('They will honor the agreement.', True),\n",
    " ('The tyres need to be checked regularly.', False),\n",
    " ('Customize the settings to your preference.', True),\n",
    " ('She has a splendid sense of humour.', False)]\n",
    "\n",
    "more_sents = [\n",
    "    (\"The centre had lots of great shopping\", \"False\"), \n",
    "    (\"We took the lift to the fifth floor\", \"False\"),\n",
    "    (\"It was an organisation filled with diverse people\", \"False\"),\n",
    "    (\"His behavior was strange during the meeting\", \"True\"),\n",
    "    (\"She put on gray pants and a vest\", \"True\"),\n",
    "    (\"We enjoyed travelling across the country\", \"False\"),\n",
    "    (\"The theater had beautiful drapes\", \"True\"),\n",
    "    (\"She wore pyjamas to bed every night\", \"False\"), \n",
    "    (\"He carried a flashlight when walking home at night\", \"True\"),\n",
    "    (\"The neighbourhood was filled with colourful houses\", \"False\"), \n",
    "    (\"I love eating glazed donuts\", \"True\"),\n",
    "    (\"The jewellery store had a holiday sale\", \"False\"),\n",
    "    (\"The cancel button did not work properly\", \"True\"),\n",
    "    (\"It requires a lot of labour to dig a well\", \"False\"),\n",
    "    (\"I sent her an email yesterday\", \"True\"),\n",
    "    (\"The candies were quite flavourful\", \"False\"), \n",
    "    (\"He put on pants, a sweater, and sneakers\", \"True\"),\n",
    "    (\"The defence played very aggressively\", \"False\"),\n",
    "    (\"I enjoyed the yogurt flavoured crisps\", \"False\"),\n",
    "]\n",
    "\n",
    "more_examps_gpt = [\n",
    "    (\"Traveling across the country, she marveled at the diverse landscapes.\", True),\n",
    "    (\"He will finalize the report before the weekend.\", True),\n",
    "    (\"The jewelry store had an amazing array of choices.\", True),\n",
    "    (\"The defense attorney argued passionately for his client.\", True),\n",
    "    (\"The center of the city is bustling with activity.\", True),\n",
    "    (\"She checked her calendar to schedule the meeting.\", True),\n",
    "    (\"The cozy coffee shop on the corner is my go-to spot.\", True),\n",
    "    (\"His tire had a puncture and needed to be replaced.\", True),\n",
    "    (\"The theater was crowded for the movie premiere.\", True),\n",
    "    (\"Travelling through the countryside, she marvelled at the historical architecture.\", False),\n",
    "    (\"He shall finalise the document by Friday.\", False),\n",
    "    (\"Her favourite flavour of ice cream is strawberry.\", False),\n",
    "    (\"The defence barrister presented a compelling argument.\", False),\n",
    "    (\"The centre of town was alive with festivities.\", False),\n",
    "    (\"She checked her diary to organise a meeting.\", False),\n",
    "    (\"The cosy room was very cute.\", False),\n",
    "    (\"His tyre had a flat and needed changing.\", False),\n",
    "]\n",
    "\n",
    "more_examps_claude = [\n",
    "    (\"The organization of the event required careful planning and coordination.\", True),\n",
    "    (\"His behavior at the party was somewhat obnoxious.\", True), \n",
    "    (\"The pediatrician has over twenty years of experience caring for children.\", True),\n",
    "    (\"The growing economy has fueled an increase in jobs and consumer spending.\", True),\n",
    "    (\"The archeology student was fascinated by the ancient civilization.\", True),\n",
    "    (\"The theater hosted a film festival featuring independent movies.\", True),\n",
    "    (\"The counselors provided guidance to students throughout the semester.\", True),\n",
    "    (\"The aluminum baseball bats were lighter than traditional wooden bats.\", True),\n",
    "    (\"The farmers are preparing the plowed fields for the new crops.\", True),\n",
    "    (\"The tire pressure on my car seems low, I should get it checked.\", True),\n",
    "    (\"The programme focused on providing education to underprivileged children.\", False),\n",
    "    (\"The neighbours held a street party to welcome new families.\", False),\n",
    "    (\"The theatre group put on an impressive production of the classic play.\", False),  \n",
    "    (\"The local council has introduced new waste management procedures.\", False),\n",
    "    (\"The paediatrician has specialised in childhood illnesses and development.\", False),\n",
    "    (\"The organisation relies heavily on volunteers and donations.\", False),\n",
    "    (\"The behaviour of the fans was widely criticised after the match.\", False),\n",
    "    (\"The artefacts from the excavation site will be displayed in the museum.\", False),\n",
    "    (\"The harbour was expanded to accommodate larger cruise ships.\", False)\n",
    "]\n",
    "\n",
    "\n",
    "even_more_claude = [\n",
    "(\"The organization provided assistance to families in need after the flooding.\", True),\n",
    "(\"The professor's unique teaching style was quite controversial among students.\", True),\n",
    "(\"The pediatric surgeon has performed thousands of successful operations.\", True),\n",
    "(\"The archeologists uncovered fossils dating back millions of years.\", True),\n",
    "(\"The counselor helped students deal with personal issues affecting their studies.\", True),\n",
    "(\"The theater hosted a variety show with singing, dancing and comedy routines.\", True),\n",
    "\n",
    "(\"The aluminum cans were recycled at the facility.\", True),\n",
    "(\"The farmers are investing in new equipment to increase productivity.\", True),\n",
    "(\"I should probably get my tire rotated during my next oil change.\", True),\n",
    "(\"The paediatric department is expanding to accommodate more patients.\", False),\n",
    "(\"The programme taught practical job skills to unemployed individuals.\", False),\n",
    "(\"The neighbourhood held a yard sale to raise funds for the school.\", False),\n",
    "(\"The theatre troupe rehearsed daily in preparation for their next show.\", False),\n",
    "(\"The local council approved plans for more affordable housing units.\", False),\n",
    "(\"The organisation campaigned to raise awareness of childhood diseases.\", False),\n",
    "(\"The behaviour of the celebrity was offensive to many viewers.\", False),\n",
    "(\"The artefacts will be carefully cleaned and catalogued by the museum staff.\", False),\n",
    "(\"The harbour was temporarily closed due to dangerous weather conditions.\", False),\n",
    "(\"The government’s policies on immigration have been widely debated.\", False),\n",
    "(\"The orthopaedic surgeon specialises in sports injuries and fractures.\", False),\n",
    "\n",
    "(\"The neighbours organised a petition against the new property development.\", False),\n",
    "(\"The economics programme outlined strategies for improving employment levels.\", False),\n",
    "(\"The organisation’s fundraising campaign was very successful this year.\", False),\n",
    "(\"The theatre group rehearsed all week for their upcoming performance.\", False),\n",
    "(\"The paediatric nurse has over 10 years of experience caring for children.\", False)\n",
    "]\n",
    "\n",
    "sentences = sentence_list+more_sents+more_examps_gpt+even_more_claude+more_examps_claude\n",
    "\n",
    "sentences = [(s[0],str(s[1])) for s in sentences]"
   ]
  },
  {
   "cell_type": "code",
   "execution_count": 815,
   "id": "fb898316-a49e-4f77-9f34-940e5b68fdb3",
   "metadata": {
    "tags": []
   },
   "outputs": [],
   "source": [
    "american_british_spellings = [\n",
    "    (\"center\", \"centre\"),\n",
    "    (\"organize\", \"organise\"),\n",
    "    (\"color\", \"colour\"),\n",
    "    (\"practice\", \"practise\"),\n",
    "    (\"tire\", \"tyre\"),\n",
    "    (\"theater\", \"theatre\"),\n",
    "    (\"flavor\", \"flavour\"),\n",
    "    (\"favorite\", \"favourite\"),\n",
    "    (\"realize\", \"realise\"),\n",
    "    (\"program\", \"programme\"),\n",
    "    (\"honor\", \"honour\"),\n",
    "    (\"specialize\", \"specialise\"),\n",
    "    (\"traveling\", \"travelling\"),\n",
    "    (\"defense\", \"defence\"),\n",
    "    (\"catalog\", \"catalogue\"),\n",
    "    (\"endeavor\", \"endeavour\"),\n",
    "    (\"analyze\", \"analyse\"),\n",
    "    (\"colors\", \"colours\"),\n",
    "    (\"humor\", \"humour\"),\n",
    "    (\"behavior\", \"behaviour\"),\n",
    "    (\"finalize\", \"finalise\"),\n",
    "    (\"meter\", \"metre\"),\n",
    "    (\"neighbor\", \"neighbour\"),\n",
    "    (\"marvelous\", \"marvellous\"),\n",
    "    (\"pajamas\", \"pyjamas\"),\n",
    "    (\"jewelry\", \"jewellery\"),\n",
    "    (\"labor\", \"labour\"),\n",
    "    (\"gray\", \"grey\"),\n",
    "    (\"organization\", \"organisation\"),\n",
    "    (\"drapes\", \"curtains\"),\n",
    "    (\"pediatric\", \"paediatric\"),\n",
    "    (\"archeology\", \"archaeology\"),\n",
    "    (\"counselor\", \"counsellor\"),\n",
    "    (\"aluminum\", \"aluminium\"),\n",
    "    (\"yogurt\", \"yoghurt\"),\n",
    "    (\"harbor\", \"harbour\"),\n",
    "    (\"orthopedic\", \"orthopaedic\"),\n",
    "    (\"neighborhood\", \"neighbourhood\"),\n",
    "    (\"counselor\", \"counsellor\"),\n",
    "    (\"cozy\", \"cosy\"),\n",
    "    (\"artifacts\", \"artefacts\")\n",
    "]"
   ]
  },
  {
   "cell_type": "markdown",
   "id": "0bb892b7-abee-4ec7-b10d-52c68e92487f",
   "metadata": {
    "jp-MarkdownHeadingCollapsed": true,
    "tags": []
   },
   "source": [
    "## Sentences, Unshuffled"
   ]
  },
  {
   "cell_type": "code",
   "execution_count": null,
   "id": "b4ffff38-975e-4ac4-af45-4e279a9161e7",
   "metadata": {
    "tags": []
   },
   "outputs": [],
   "source": [
    "claude_sentences = [\n",
    "(\"The researcher decided to analyze the data to uncover new insights.\", True),\n",
    "(\"The doctor asked her to analyse the test results further.\", False),\n",
    "(\"I need to apologize for missing our meeting this morning.\", True),\n",
    "(\"She wanted to apologise to her friend for being insensitive.\", False),\n",
    "(\"Please catalog your expenses in this ledger for your records.\", True),\n",
    "(\"He was amazed by the museum's vast catalogue of artifacts.\", False),\n",
    "(\"The script had very witty dialog between the two main characters.\", True),\n",
    "(\"The director helped the actors rehearse the dialogue for the climactic scene.\", False),\n",
    "(\"The medication contains a healthy dose of estrogen.\", True),\n",
    "(\"The fertililty treatment uses hormones like oestrogen and progesterone.\", False),\n",
    "(\"Eating more high-fiber foods can improve digestion.\", True),\n",
    "(\"I try to buy breads and cereals with added fibre for health reasons.\", False),\n",
    "(\"The fetus appeared healthy in the ultrasound images.\", True),\n",
    "(\"The mother felt the foetus kicking as her pregnancy progressed.\", False),\n",
    "(\"I was able to fulfill my dream of visiting the Louvre.\", True),\n",
    "(\"She hoped to fulfil her ambition of becoming a pilot someday.\", False),\n",
    "(\"She looks lovely in that gray silk dress.\", True),\n",
    "\n",
    "(\"He has more grey hairs now than he did a few years ago.\", False),\n",
    "(\"I need to buy new jewelry to wear for my sister's wedding.\", True),\n",
    "(\"The jewellery shop offers engravings and repairs for your items.\", False),\n",
    "(\"You need a valid license to operate heavy machinery.\", True),\n",
    "(\"He had to get his driving licence renewed before it expired.\", False),\n",
    "(\"There was mold growing in the bathroom from the damp conditions.\", True),\n",
    "(\"The bread developed green mould after being left out for too long.\", False),\n",
    "(\"His flagrant offense could not be overlooked.\", True),\n",
    "\n",
    "(\"For his offence, the referee gave him a yellow card warning.\", False),\n",
    "(\"The farmer plowed the fields in preparation for spring planting.\", True),\n",
    "(\"He attaches the plough to his tractor every season.\", False),\n",
    "(\"The skeptic doubted the extraordinary claim.\", True),\n",
    "(\"The sceptic questioned the theory as it lacked solid evidence.\", False),\n",
    "(\"The theater hosted live music and comedy shows.\", True),\n",
    "\n",
    "(\"The theatre put on an impressive production of the classic musical.\", False),\n",
    "(\"I have a slow leak in my tire that needs to be patched.\", True),\n",
    "(\"I need to replace the tyre because I ran over a nail.\", False),\n",
    "(\"The tumor was thankfully benign.\", True),\n",
    "(\"The tumour may be cancerous based on the test results.\", False),\n",
    "(\"He showed great valor inriskng his life to save others.\", True),\n",
    "(\"The medal recognized the firefighter for his valour.\", False),\n",
    "(\"Avoid foods that cause rapid aging.\", True),\n",
    "(\"Smoking can contribute to premature ageing.\", False),\n",
    "(\"A knight's suit of armor was on display.\", True),\n",
    "(\"The museum exhibited a full suit of armour from the 1500s.\", False),\n",
    "(\"I need to cash this check at the bank.\", True),\n",
    "(\"He wrote a cheque to pay the monthly bills.\", False),\n",
    "(\"The counselor offered thoughtful advice to students.\", True),\n",
    "(\"The counsellor provides confidential support to pupils.\", False),\n",
    "(\"The defense played very aggressively the whole game.\", True),\n",
    "(\"The defence prevented any goals from being scored.\", False),\n",
    "(\"Please review the first draft of the proposal.\", True),\n",
    "(\"He poured a draught of ale at the pub.\", False),\n",
    "(\"Your favorite memory sticks with you.\", True),\n",
    "(\"Her favourite photograph was the one taken at sunrise.\", False),\n",
    "(\"I will honor our agreement not to discuss this.\", True),\n",
    "(\"He was honoured for decades of outstanding public service.\", False),\n",
    "(\"Child labor laws protect underage workers.\", True),\n",
    "\n",
    "(\"Miners had to endure harsh labour conditions for little pay.\", False),\n",
    "(\"My pajamas are soft and comfortable.\", True),\n",
    "(\"She wore warm flannel pyjamas to bed during winter.\", False),\n",
    "(\"My pediatrician has taken care of my kids since birth.\", True),\n",
    "(\"The paediatric clinic specializes in treating young children.\", False),\n",
    "(\"I need to practice my presentation a few more times.\", True),\n",
    "(\"She still has to practise playing the piano daily.\", False),\n",
    "(\"The nonprofit program helps homeless families.\", True),\n",
    "(\"The programme highlighted the work of various charities.\", False),\n",
    "(\"We enjoyed traveling across the country by train.\", True),\n",
    "(\"He recalled fondly travelling overseas during college.\", False),\n",
    "(\"The factory recycles aluminum products.\", True),\n",
    "\n",
    "(\"The smelting process for aluminium requires huge amounts of electricity.\", False),\n",
    "(\"I love the bright colors of the painting.\", True),\n",
    "\n",
    "(\"The autumn leaves display brilliant colours.\", False),\n",
    "(\"We met at the center of the park.\", True),\n",
    "(\"The centre of the city was decorated for Christmas.\", False),\n",
    "(\"Let me organize the messy folders.\", True),\n",
    "(\"Please help me organise these files by date.\", False),\n",
    "(\"His rude behavior was unacceptable.\", True),\n",
    "(\"She complained about the child's disruptive behaviour.\", False),\n",
    "(\"Schools should civilize young minds.\", True),\n",
    "(\"Books have the power to civilise and enlighten.\", False),\n",
    "(\"Sit back and relax in this cozy chair.\", True),\n",
    "(\"She curled up in the cosy armchair by the fire.\", False),\n",
    "(\"His wry humor kept the mood light.\", True),\n",
    "(\"British humour tends to be quite dry and sarcastic.\", False),\n",
    "(\"Our neighbor's house just went on the market.\", True),\n",
    "(\"She borrowed some sugar from her friendly neighbour.\", False),\n",
    "(\"I didn't realize how late it had gotten.\", True),\n",
    "(\"She suddenly realised she forgot her wallet at home.\", False),\n",
    "(\"I recognize the importance of being humble.\", True),\n",
    "(\"It is important that we recognise our own biases.\", False),\n",
    "(\"The therapist specializes in treating anxiety.\", True),\n",
    "(\"He decided to specialise in cardiology during medical school.\", False),\n",
    "(\"The public transit system uses clean ton technology.\", True),\n",
    "(\"The lorry was loaded with tonnes of gravel.\", False),\n",
    "(\"This enyzme metabolizes fat into energy.\", True),\n",
    "(\"The process metabolises glucose to release energy.\", False),\n",
    "(\"My grandfather needs orthopedic surgery for his knee.\", True),\n",
    "(\"Top football players undergo orthopaedic surgery regularly.\", False),\n",
    "(\"The ship is returning to harbor this evening.\", True),\n",
    "(\"The harbour provides docking for commercial and naval vessels.\", False),\n",
    "(\"The pilot performed an incredible aerial maneuver.\", True),\n",
    "(\"The team practised complicated manoeuvres for the airshow.\", False),\n",
    "(\"The archaeologists discovered an artifact buried beneath the castle.\", True),\n",
    "(\"The artefact will be the centerpiece of the museum's new exhibit.\", False),\n",
    "(\"There is a high curb at the edge of the parking lot.\", True),\n",
    "(\"Mind the kerb when pulling over to park.\", False),\n",
    "(\"The soil contains high sulfur content.\", True),\n",
    "(\"The sulphur dioxide emissions are hazardous to health.\", False)\n",
    "]\n",
    "\n",
    "\n",
    "GPT_sentences = [\n",
    "    (\"We need to analyze the results of the experiment.\", True),\n",
    "    (\"The scientists will analyse the sample in the lab.\", False),\n",
    "    (\"I apologize for the late response to your email.\", True),\n",
    "    (\"Please accept my apologies for the delay in replying.\", False),\n",
    "    (\"You can find it in our latest catalog.\", True),\n",
    "    (\"Browse through our extensive catalogue for more items.\", False),\n",
    "    (\"Their dialog in the film was quite engaging.\", True),\n",
    "    (\"The dialogue between the characters was brilliantly written.\", False),\n",
    "    (\"Estrogen is a key hormone in the human body.\", True),\n",
    "    (\"Oestrogen levels fluctuate during different life stages.\", False),\n",
    "    (\"Increasing dietary fiber can improve digestion.\", True),\n",
    "    (\"A high fibre diet is beneficial for your health.\", False),\n",
    "    (\"The fetus develops rapidly during the second trimester.\", True),\n",
    "    (\"The development of the foetus is fascinating to study.\", False),\n",
    "    (\"We must fulfill our commitment to the project.\", True),\n",
    "    (\"It's our duty to fulfil the promises we've made.\", False),\n",
    "    (\"He painted his bedroom a soothing shade of gray.\", True),\n",
    "    (\"The skies turned a dark grey as the storm approached.\", False),\n",
    "    (\"Her jewelry collection is quite impressive.\", True),\n",
    "    (\"She inherited an exquisite collection of jewellery.\", False),\n",
    "    (\"A valid driver's license is required to rent a car.\", True),\n",
    "    (\"You'll need a full driving licence to hire the vehicle.\", False),\n",
    "    (\"There's mold on the bread due to the humidity.\", True),\n",
    "    (\"The bathroom walls are covered in mould from the damp.\", False),\n",
    "    (\"The team's offense was particularly strong this season.\", True),\n",
    "    (\"Their football team has a very aggressive offence.\", False),\n",
    "    (\"He uses a plow to till the fields every spring.\", True),\n",
    "    (\"Farmers often use a plough to turn over the earth.\", False),\n",
    "    (\"A skeptic might question the validity of the claim.\", True),\n",
    "    (\"As a sceptic, he often doubted supernatural occurrences.\", False),\n",
    "    (\"The new movie is premiering at the local theater.\", True),\n",
    "    (\"The play will be shown at the town's historic theatre.\", False),\n",
    "    (\"Remember to check the tire pressure before driving.\", True),\n",
    "    (\"It's important to regularly check your car's tyre pressure.\", False),\n",
    "    (\"The biopsy confirmed the tumor was benign.\", True),\n",
    "    (\"Surgeons removed a non-malignant tumour from the patient.\", False),\n",
    "    (\"He received a medal for his valor in the war.\", True),\n",
    "    (\"The soldier was honoured for his valour in combat.\", False),\n",
    "    (\"Her expertise in aging research is widely recognized.\", True),\n",
    "    (\"His studies in ageing processes have won several awards.\", False),\n",
    "    (\"The knights wore polished armor into battle.\", True),\n",
    "    (\"In medieval times, knights donned heavy armour for protection.\", False),\n",
    "    (\"Could you write a check for the groceries?\", True),\n",
    "    (\"Please write a cheque for the total amount.\", False),\n",
    "    (\"The school counselor helped him with college applications.\", True),\n",
    "    (\"The school counsellor provided guidance on university choices.\", False),\n",
    "    (\"The defense played a crucial role in their win.\", True),\n",
    "    (\"Their football team's defence was particularly strong.\", False),\n",
    "    (\"A cold draft entered the room through the window.\", True),\n",
    "    (\"She felt a chilly draught coming from under the door.\", False),\n",
    "    (\"Baseball is his favorite sport to watch.\", True),\n",
    "    (\"Cricket has always been his favourite game.\", False),\n",
    "    (\"It's a matter of honor to keep one's promises.\", True),\n",
    "    (\"As a matter of honour, he fulfilled his commitment.\", False),\n",
    "    (\"The labor union called for better working conditions.\", True),\n",
    "    (\"The labour movement is advocating for higher wages.\", False),\n",
    "    (\"She wore her favorite pajamas to bed.\", True),\n",
    "    (\"He put on his warmest pyjamas for a cosy night in.\", False),\n",
    "    (\"The pediatric ward at the hospital was full.\", True),\n",
    "    (\"The paediatric department specializes in child healthcare.\", False),\n",
    "    (\"Doctors must practice medicine ethically and responsibly.\", True),\n",
    "    (\"In order to practise law, one must pass the bar exam.\", False),\n",
    "    (\"Her computer program crashed unexpectedly.\", True),\n",
    "    (\"The television programme was interrupted by a news bulletin.\", False),\n",
    "    (\"Traveling abroad opened her eyes to new cultures.\", True),\n",
    "    (\"Travelling through Europe was an eye-opening experience.\", False),\n",
    "    (\"The airplane's wings are made of aluminum.\", True),\n",
    "    (\"Aircraft are often constructed using aluminium due to its light weight.\", False),\n",
    "    (\"The color of her dress matched her eyes perfectly.\", True),\n",
    "    (\"She chose a vibrant colour for her wedding theme.\", False),\n",
    "    (\"The shopping center was bustling with activity.\", True),\n",
    "    (\"The city centre was crowded with tourists.\", False),\n",
    "    (\"We need to organize the files by tomorrow.\", True),\n",
    "    (\"Let's organise a meeting to discuss the project details.\", False),\n",
    "    (\"His behavior at the event was exemplary.\", True),\n",
    "    (\"Her behaviour during the ceremony was impeccable.\", False),\n",
    "    (\"It's important to civilize our approaches to conflict resolution.\", True),\n",
    "    (\"The need to civilise discourse in politics is widely discussed.\", False),\n",
    "    (\"The room was cozy and inviting.\", True),\n",
    "    (\"The cottage had a cosy, rustic charm.\", False),\n",
    "    (\"His sense of humor made everyone laugh.\", True),\n",
    "    (\"Her quick wit and humour were infectious.\", False),\n",
    "    (\"Our new neighbor is very friendly.\", True),\n",
    "    (\"Our new neighbour invited us over for tea.\", False),\n",
    "    (\"We must realize the impact of our actions on the environment.\", True),\n",
    "    (\"It's crucial to realise the consequences of climate change.\", False),\n",
    "    (\"Children recognize their parents' voices early on.\", True),\n",
    "    (\"Kids often recognise their mother's voice first.\", False),\n",
    "    (\"She specializes in pediatric care.\", True),\n",
    "    (\"He specialises in wildlife photography.\", False),\n",
    "    (\"The cargo ship carries several tons of goods.\", True),\n",
    "    (\"The lorry was loaded with several tonnes of cargo.\", False),\n",
    "    (\"Scientists metabolize compounds in the lab for research.\", True),\n",
    "    (\"Researchers metabolise new substances for drug development.\", False),\n",
    "    (\"He visited an orthopedic clinic for his injury.\", True),\n",
    "    (\"She was referred to an orthopaedic specialist for her knee problem.\", False),\n",
    "    (\"The harbor was filled with boats of all sizes.\", True),\n",
    "    (\"The harbour was bustling with activity at dawn.\", False),\n",
    "    (\"The pilot performed a difficult maneuver to avoid the storm.\", True),\n",
    "    (\"The driver executed a skilful manoeuvre to avoid the accident.\", False),\n",
    "    (\"The museum displayed fascinating artifacts from ancient Egypt.\", True),\n",
    "    (\"The exhibition showcased rare artefacts from the Roman Empire.\", False),\n",
    "    (\"Be careful not to hit the curb while parking.\", True),\n",
    "    (\"Mind the kerb when parking your car.\", False),\n",
    "    (\"Sulfur is used in the manufacture of fertilizers.\", True),\n",
    "    (\"Sulphur is an essential element in some medicines.\", False)\n",
    "]"
   ]
  },
  {
   "cell_type": "code",
   "execution_count": null,
   "id": "c567810f-9185-494b-98f4-2761d70b1815",
   "metadata": {},
   "outputs": [],
   "source": [
    "claude_sentences = [(s[0],str(s[1])) for s in claude_sentences]\n",
    "GPT_sentences = [(s[0],str(s[1])) for s in GPT_sentences]\n",
    "\n",
    "random.shuffle(claude_sentences)\n",
    "random.shuffle(GPT_sentences)"
   ]
  },
  {
   "cell_type": "code",
   "execution_count": null,
   "id": "8600beaa-6010-4157-ac2a-17a1bf2887fc",
   "metadata": {},
   "outputs": [],
   "source": [
    "with open('GPT_sents.pkl', 'wb') as file:\n",
    "    pickle.dump(GPT_sentences, file)\n",
    "with open('Claude_sents.pkl', 'wb') as file:\n",
    "    pickle.dump(claude_sentences, file)"
   ]
  },
  {
   "cell_type": "markdown",
   "id": "2ad028dd-d9f5-417c-9627-26e0cac0c2f2",
   "metadata": {},
   "source": [
    "## Load Shuffled Sentences"
   ]
  },
  {
   "cell_type": "code",
   "execution_count": 816,
   "id": "4590757c-b6a2-4f7e-891f-dbec6a890f9a",
   "metadata": {
    "tags": []
   },
   "outputs": [],
   "source": [
    "with open('GPT_sents.pkl', 'rb') as file:\n",
    "    GPT_sentences=pickle.load(file)\n",
    "with open('Claude_sents.pkl', 'rb') as file:\n",
    "    Claude_sentences=pickle.load(file)"
   ]
  },
  {
   "cell_type": "code",
   "execution_count": 818,
   "id": "a9f72b0c-406c-4e4d-9593-d8602c20b7a2",
   "metadata": {
    "tags": []
   },
   "outputs": [
    {
     "data": {
      "text/plain": [
       "[('The pilot performed an incredible aerial maneuver.', 'True'),\n",
       " ('Sit back and relax in this cozy chair.', 'True'),\n",
       " ('The soil contains high sulfur content.', 'True'),\n",
       " ('I was able to fulfill my dream of visiting the Louvre.', 'True')]"
      ]
     },
     "execution_count": 818,
     "metadata": {},
     "output_type": "execute_result"
    }
   ],
   "source": [
    "Claude_sentences[:4]"
   ]
  },
  {
   "cell_type": "markdown",
   "id": "bf5d76e9-593c-49af-9e25-14be98855920",
   "metadata": {
    "tags": []
   },
   "source": [
    "## Ask GPT"
   ]
  },
  {
   "cell_type": "code",
   "execution_count": 821,
   "id": "7480215d-6f4c-4f6d-bf86-49148ade5ba7",
   "metadata": {
    "tags": []
   },
   "outputs": [],
   "source": [
    "import os\n",
    "from openai import OpenAI\n",
    "API_KEY = os.getenv('OPENAI_API_KEY')  # Retrieve API key from environment variable\n",
    "client = OpenAI(api_key=API_KEY)\n",
    "\n",
    "def get_gpt_response(num_examples,\n",
    "                     num_to_test,\n",
    "                     data,\n",
    "                     reasoning=True,\n",
    "                     model=\"gpt-4\"):\n",
    "    \n",
    "    if data=='GPT':\n",
    "        data_source = GPT_sentences\n",
    "    elif data =='Claude':\n",
    "        data_source = claude_sentences\n",
    "    else:\n",
    "        return\n",
    "    \n",
    "    prompts = data_source[:20]\n",
    "    examples = data_source[20:]\n",
    "    \n",
    "    few_shot_examples = prompts[:num_examples]\n",
    "    \n",
    "    if reasoning:\n",
    "        system_message = \"\"\"You have a series of input and output pairs. The input is a sentence and the output is either True or False.\n",
    "        Find a general rule to explain the pattern of input/output pairs. Explain your reasoning step by step.\n",
    "        The prediction for the last example should be the string 'True' or 'False' and nothing else.\n",
    "        Output the result in the following format:\n",
    "\n",
    "        REASONING: {Put your reasoning here}\\n\n",
    "        PREDICTION: {prediction}\n",
    "        \"\"\"\n",
    "    else:\n",
    "        system_message = \"\"\"You have a series of input and output pairs. The input is a sentence and the output is either True or False.\n",
    "        Find a general rule to explain the pattern of input/output pairs.\n",
    "        The prediction for the last example should be the string 'True' or 'False' and nothing else.\n",
    "        \"\"\"\n",
    "    \n",
    "    system_message += '\\n'+convert_all(few_shot_examples)\n",
    "    ct = 0\n",
    "    to_test = examples[:num_to_test]\n",
    "    \n",
    "    result = []\n",
    "    tot=len(to_test)\n",
    "    for i,example in enumerate(to_test):\n",
    "\n",
    "        #example = examples[i]\n",
    "        prompt = convert_all(few_shot_examples)\n",
    "        \n",
    "        prompt += '\\n'+f'Input: {example[0]} ### Output: '\n",
    "\n",
    "        response = client.chat.completions.create(\n",
    "            messages=[\n",
    "                {\"role\": \"system\", \"content\": system_message},\n",
    "                {\"role\": \"user\", \"content\": prompt},\n",
    "            ],\n",
    "            model=model,\n",
    "            temperature=0,\n",
    "        )\n",
    "        \n",
    "        res = response.choices[0].message.content\n",
    "        if reasoning:\n",
    "            pred = res.split('PREDICTION: ')\n",
    "            if len(pred)==2:\n",
    "                pred = pred[1]\n",
    "        else:\n",
    "            pred = res\n",
    "        \n",
    "        print(f'Working on example {i}')\n",
    "        print(f'sentence is {example}')\n",
    "        print(f'Prediction is {pred}')\n",
    "        print(f'Actual result is {example[1]}')\n",
    "        \n",
    "        if not reasoning:\n",
    "            curr = (pred,example[1])\n",
    "        \n",
    "        else:\n",
    "            curr = (pred,example[1],res.split('\\n')[0])\n",
    "            print(f'Full Response is: {res}')\n",
    "        print('\\n')\n",
    "        \n",
    "        ct += (str(example[1])==pred)\n",
    "        \n",
    "        result.append(curr)\n",
    "    \n",
    "    accuracy = ct/tot*100\n",
    "    print(f'accuracy is {accuracy}')     \n",
    "    return result,accuracy\n",
    "    \n",
    "        #print(res,bool(example[1]))"
   ]
  },
  {
   "cell_type": "code",
   "execution_count": 823,
   "id": "de371ae2-4685-45ba-82ee-7fc074b3b557",
   "metadata": {
    "tags": []
   },
   "outputs": [],
   "source": [
    "result = {}"
   ]
  },
  {
   "cell_type": "code",
   "execution_count": null,
   "id": "ce6e2624-2f0f-4eed-b735-4480b6989655",
   "metadata": {
    "tags": []
   },
   "outputs": [],
   "source": [
    "num_to_test = 50\n",
    "model='gpt-4'\n",
    "\n",
    "for reasoning in [True,False]:\n",
    "    for few_shot in range(1,16): \n",
    "        print(few_shot,reasoning)\n",
    "        if (few_shot,num_to_test,reasoning,model,'Claude') in result:\n",
    "            print('already computed')\n",
    "            continue\n",
    "        result[few_shot,num_to_test,reasoning,model,'Claude'] = get_gpt_response(few_shot,num_to_test,'Claude',reasoning,model)\n",
    "\n",
    "\n",
    "for reasoning in [True,False]:\n",
    "    for few_shot in range(1,16): \n",
    "        print(few_shot,reasoning)\n",
    "        if (few_shot,num_to_test,reasoning,model,'GPT') in result:\n",
    "            print('already computed')\n",
    "            continue\n",
    "        \n",
    "        result[few_shot,num_to_test,reasoning,model,'GPT'] = get_gpt_response(few_shot,num_to_test,'GPT',reasoning,model)\n",
    "\n",
    "\n",
    "#with open('./result_V2.pickle', 'wb') as handle:\n",
    "#    pickle.dump(result, handle, protocol=pickle.HIGHEST_PROTOCOL)"
   ]
  },
  {
   "cell_type": "code",
   "execution_count": 832,
   "id": "dad6f715-573b-4bd5-87d3-2a13d319e94a",
   "metadata": {
    "tags": []
   },
   "outputs": [],
   "source": [
    "with open('./result.pickle', 'wb') as handle:\n",
    "    pickle.dump(result, handle, protocol=pickle.HIGHEST_PROTOCOL)"
   ]
  },
  {
   "cell_type": "code",
   "execution_count": 836,
   "id": "3bd76a7b-5fb6-4acb-b886-628c00022303",
   "metadata": {
    "tags": []
   },
   "outputs": [
    {
     "data": {
      "text/plain": [
       "dict_keys([(1, 50, True, 'gpt-4', 'Claude'), (2, 50, True, 'gpt-4', 'Claude'), (3, 50, True, 'gpt-4', 'Claude'), (4, 50, True, 'gpt-4', 'Claude'), (5, 50, True, 'gpt-4', 'Claude'), (6, 50, True, 'gpt-4', 'Claude'), (7, 50, True, 'gpt-4', 'Claude'), (8, 50, True, 'gpt-4', 'Claude'), (9, 50, True, 'gpt-4', 'Claude'), (10, 50, True, 'gpt-4', 'Claude'), (11, 50, True, 'gpt-4', 'Claude'), (12, 50, True, 'gpt-4', 'Claude'), (13, 50, True, 'gpt-4', 'Claude'), (14, 50, True, 'gpt-4', 'Claude'), (15, 50, True, 'gpt-4', 'Claude'), (1, 50, True, 'gpt-4', 'GPT'), (2, 50, True, 'gpt-4', 'GPT'), (3, 50, True, 'gpt-4', 'GPT'), (4, 50, True, 'gpt-4', 'GPT'), (5, 50, True, 'gpt-4', 'GPT'), (6, 50, True, 'gpt-4', 'GPT'), (7, 50, True, 'gpt-4', 'GPT'), (8, 50, True, 'gpt-4', 'GPT'), (9, 50, True, 'gpt-4', 'GPT'), (10, 50, True, 'gpt-4', 'GPT'), (11, 50, True, 'gpt-4', 'GPT'), (12, 50, True, 'gpt-4', 'GPT'), (13, 50, True, 'gpt-4', 'GPT'), (14, 50, True, 'gpt-4', 'GPT'), (1, 50, False, 'gpt-4', 'Claude'), (2, 50, False, 'gpt-4', 'Claude'), (3, 50, False, 'gpt-4', 'Claude'), (4, 50, False, 'gpt-4', 'Claude'), (5, 50, False, 'gpt-4', 'Claude'), (6, 50, False, 'gpt-4', 'Claude'), (7, 50, False, 'gpt-4', 'Claude'), (8, 50, False, 'gpt-4', 'Claude'), (9, 50, False, 'gpt-4', 'Claude'), (10, 50, False, 'gpt-4', 'Claude'), (11, 50, False, 'gpt-4', 'Claude'), (12, 50, False, 'gpt-4', 'Claude'), (13, 50, False, 'gpt-4', 'Claude'), (14, 50, False, 'gpt-4', 'Claude'), (15, 50, False, 'gpt-4', 'Claude'), (15, 50, True, 'gpt-4', 'GPT'), (1, 50, False, 'gpt-4', 'GPT'), (2, 50, False, 'gpt-4', 'GPT'), (3, 50, False, 'gpt-4', 'GPT'), (4, 50, False, 'gpt-4', 'GPT'), (5, 50, False, 'gpt-4', 'GPT'), (6, 50, False, 'gpt-4', 'GPT'), (7, 50, False, 'gpt-4', 'GPT'), (8, 50, False, 'gpt-4', 'GPT'), (9, 50, False, 'gpt-4', 'GPT'), (10, 50, False, 'gpt-4', 'GPT'), (11, 50, False, 'gpt-4', 'GPT'), (12, 50, False, 'gpt-4', 'GPT'), (13, 50, False, 'gpt-4', 'GPT'), (14, 50, False, 'gpt-4', 'GPT'), (15, 50, False, 'gpt-4', 'GPT')])"
      ]
     },
     "execution_count": 836,
     "metadata": {},
     "output_type": "execute_result"
    }
   ],
   "source": [
    "result.keys()"
   ]
  },
  {
   "cell_type": "code",
   "execution_count": null,
   "id": "ea516919-4c37-47cf-b1c3-ace8b98908dc",
   "metadata": {
    "tags": []
   },
   "outputs": [],
   "source": [
    "result[4,50,True,'gpt-4','GPT']"
   ]
  },
  {
   "cell_type": "markdown",
   "id": "7f4db4b7-da10-442f-9b66-ddb5d5a6ba1f",
   "metadata": {
    "tags": []
   },
   "source": [
    "### Analysis"
   ]
  },
  {
   "cell_type": "code",
   "execution_count": 829,
   "id": "53313ee5-a72c-460a-8930-6fe5693806d0",
   "metadata": {
    "tags": []
   },
   "outputs": [
    {
     "data": {
      "image/png": "[encoded data removed]",
      "text/plain": [
       "<Figure size 640x480 with 1 Axes>"
      ]
     },
     "metadata": {},
     "output_type": "display_data"
    }
   ],
   "source": [
    "import matplotlib.pyplot as plt\n",
    "\n",
    "x = [i for i in range(1,16)]\n",
    "\n",
    "y_gpt_reason = [result[i,50,True,'gpt-4','GPT'][1] for i in range(1,16)]\n",
    "y_gpt_no_reason = [result[i,50,False,'gpt-4','GPT'][1] for i in range(1,16)]\n",
    "#y_claude_reason = [result[i,50,True,'gpt-4','Claude'][1] for i in range(1,16)]\n",
    "#y_claude_no_reason = [result[i,50,False,'gpt-4','Claude'][1] for i in range(1,16)]\n",
    "\n",
    "size=4\n",
    "plt.plot(x, y_gpt_reason, label='GPT-4, Reasoning', marker='o',markersize=size)\n",
    "plt.plot(x, y_gpt_no_reason, label='GPT-4, Direct', marker='o',markersize=size)\n",
    "#plt.plot(x, y_claude_reason, label='Claude, Reasoning', marker='o',markersize=size)\n",
    "#plt.plot(x, y_claude_no_reason, label='Claude, Direct', marker='o',markersize=size)\n",
    "\n",
    "plt.legend(loc='upper left')\n",
    "\n",
    "\n",
    "plt.title('Accuracy on GPT-4 Data')\n",
    "plt.xlabel('Number of Examples')\n",
    "plt.ylabel('Accuracy')\n",
    "\n",
    "plt.tight_layout()\n",
    "\n",
    "# Save the plot\n",
    "plt.savefig(\"./accuracy_GPT.png\")\n",
    "\n",
    "# Show the plot\n",
    "plt.show()"
   ]
  },
  {
   "cell_type": "code",
   "execution_count": 830,
   "id": "f68ba5e8-772b-42ca-9f44-1c9650739cc7",
   "metadata": {
    "tags": []
   },
   "outputs": [
    {
     "data": {
      "image/png": "[encoded data removed]",
      "text/plain": [
       "<Figure size 640x480 with 1 Axes>"
      ]
     },
     "metadata": {},
     "output_type": "display_data"
    }
   ],
   "source": [
    "import matplotlib.pyplot as plt\n",
    "\n",
    "x = [i for i in range(1,16)]\n",
    "\n",
    "#y_gpt_reason = [result[i,50,True,'gpt-4','GPT'][1] for i in range(1,16)]\n",
    "#y_gpt_no_reason = [result[i,50,False,'gpt-4','GPT'][1] for i in range(1,16)]\n",
    "y_claude_reason = [result[i,50,True,'gpt-4','Claude'][1] for i in range(1,16)]\n",
    "y_claude_no_reason = [result[i,50,False,'gpt-4','Claude'][1] for i in range(1,16)]\n",
    "\n",
    "size=4\n",
    "#plt.plot(x, y_gpt_reason, label='GPT-4, Reasoning', marker='o',markersize=size)\n",
    "#plt.plot(x, y_gpt_no_reason, label='GPT-4, Direct', marker='o',markersize=size)\n",
    "plt.plot(x, y_claude_reason, label='Claude, Reasoning', marker='o',markersize=size)\n",
    "plt.plot(x, y_claude_no_reason, label='Claude, Direct', marker='o',markersize=size)\n",
    "\n",
    "plt.legend(loc='upper left')\n",
    "\n",
    "\n",
    "plt.title('Accuracy on Claude Data')\n",
    "plt.xlabel('Number of Examples')\n",
    "plt.ylabel('Accuracy')\n",
    "\n",
    "plt.tight_layout()\n",
    "\n",
    "# Save the plot\n",
    "plt.savefig(\"./accuracy_claude.png\")\n",
    "\n",
    "# Show the plot\n",
    "plt.show()"
   ]
  },
  {
   "cell_type": "code",
   "execution_count": 880,
   "id": "b8b3a8c7-f236-4398-ac30-97f88f04a644",
   "metadata": {
    "tags": []
   },
   "outputs": [
    {
     "data": {
      "text/plain": [
       "[0.0,\n",
       " 0.0,\n",
       " 0.0,\n",
       " 0.0,\n",
       " 0.0,\n",
       " 0.0,\n",
       " 0.0,\n",
       " 0.0,\n",
       " 0.0,\n",
       " 0.06,\n",
       " 0.0,\n",
       " 0.04,\n",
       " 0.98,\n",
       " 0.98,\n",
       " 0.94]"
      ]
     },
     "execution_count": 880,
     "metadata": {},
     "output_type": "execute_result"
    }
   ],
   "source": [
    "prop_claude_reason"
   ]
  },
  {
   "cell_type": "code",
   "execution_count": 879,
   "id": "21d24940-c073-4ab7-8e14-ad8b9ba362a3",
   "metadata": {
    "tags": []
   },
   "outputs": [
    {
     "data": {
      "image/png": "[encoded data removed]",
      "text/plain": [
       "<Figure size 640x480 with 1 Axes>"
      ]
     },
     "metadata": {},
     "output_type": "display_data"
    }
   ],
   "source": [
    "x = [i for i in range(1,16)]\n",
    "\n",
    "prop_gpt_reason = [sum(all(x in result[r,50,True,'gpt-4','GPT'][0][i][2].lower() for x in ['british','american'])\n",
    "    for i in range(50))/50. for r in range(1,16)]\n",
    "\n",
    "prop_claude_reason = [sum(all(x in result[r,50,True,'gpt-4','Claude'][0][i][2].lower() for x in ['british','american'])\n",
    "    for i in range(50))/50. for r in range(1,16)]\n",
    "size=4\n",
    "plt.plot(x, prop_gpt_reason, label='GPT-4',marker='o',markersize=size)\n",
    "plt.plot(x, prop_claude_reason, label='Claude',marker='o',markersize=size)\n",
    "\n",
    "plt.legend(loc='upper left')\n",
    "\n",
    "\n",
    "plt.title('Correct Reasoning vs Few-Shot Examples')\n",
    "plt.xlabel('Number of Examples')\n",
    "plt.ylabel('Fraction')\n",
    "\n",
    "# Save the plot\n",
    "plt.savefig(\"./reasoning_plot.png\")\n",
    "\n",
    "# Show the plot\n",
    "plt.show()"
   ]
  },
  {
   "cell_type": "markdown",
   "id": "10831fa4-53a0-407c-aa9d-185501c3a38d",
   "metadata": {
    "tags": []
   },
   "source": [
    "## Reasoning"
   ]
  },
  {
   "cell_type": "code",
   "execution_count": 792,
   "id": "da5e3526-ca91-4ca3-9e75-94cebac5b1a0",
   "metadata": {
    "tags": []
   },
   "outputs": [],
   "source": [
    "import os\n",
    "from openai import OpenAI\n",
    "API_KEY = os.getenv('OPENAI_API_KEY')  # Retrieve API key from environment variable\n",
    "client = OpenAI(api_key=API_KEY)\n",
    "\n",
    "def GPT_reasoning(num_examples,\n",
    "                     data,\n",
    "                     model=\"gpt-4\"):\n",
    "    \n",
    "    if data=='GPT':\n",
    "        data_source= GPT_sentences\n",
    "    elif data =='Claude':\n",
    "        data_source = claude_sentences\n",
    "    else:\n",
    "        return 'Not a valid data source'\n",
    "    \n",
    "    few_shot_examples = data_source[:num_examples]\n",
    "        \n",
    "\n",
    "    system_message = \"\"\"You have a series of input and output pairs. The input is a sentence and the output is either True or False.\n",
    "    Find a general rule to explain the pattern of input/output pairs.\n",
    "    Output the result in the following format:\n",
    "\n",
    "    REASONING: {Put your reasoning here}\n",
    "    \"\"\"\n",
    "    \n",
    "    prompt = convert_all(few_shot_examples)\n",
    "    \n",
    "\n",
    "    response = client.chat.completions.create(\n",
    "        messages=[\n",
    "            {\"role\": \"system\", \"content\": system_message},\n",
    "            {\"role\": \"user\", \"content\": prompt},\n",
    "        ],\n",
    "        model=model,\n",
    "        temperature=0,\n",
    "    )\n",
    "        \n",
    "    res = response.choices[0].message.content\n",
    "    return res"
   ]
  },
  {
   "cell_type": "code",
   "execution_count": null,
   "id": "1aea7ccc-4e6b-4e10-b5d8-dea03e71c8cb",
   "metadata": {
    "tags": []
   },
   "outputs": [],
   "source": [
    "reasoning_results = {}\n",
    "\n",
    "for i in range(1,16):\n",
    "    for source in ['GPT','Claude']:\n",
    "        print(i,source)\n",
    "        reasoning_results[i,source] = GPT_reasoning(i,source)"
   ]
  },
  {
   "cell_type": "code",
   "execution_count": 794,
   "id": "7ba54226-720a-44dd-956e-5f2be06c9941",
   "metadata": {
    "tags": []
   },
   "outputs": [],
   "source": [
    "with open('./reasoning.pkl', 'wb') as file:\n",
    "    pickle.dump(reasoning_results, file)"
   ]
  },
  {
   "cell_type": "code",
   "execution_count": null,
   "id": "cbaf5d8a-21e9-424f-a164-b2bdf8bf8d76",
   "metadata": {
    "tags": []
   },
   "outputs": [],
   "source": []
  },
  {
   "cell_type": "code",
   "execution_count": null,
   "id": "2f346144-a549-4a21-880a-9ff490a2ff1b",
   "metadata": {
    "tags": []
   },
   "outputs": [],
   "source": []
  },
  {
   "cell_type": "code",
   "execution_count": null,
   "id": "7c893f92-a26b-433d-b398-a205046b80f2",
   "metadata": {},
   "outputs": [],
   "source": []
  }
 ],
 "metadata": {
  "kernelspec": {
   "display_name": "Python 3 (ipykernel)",
   "language": "python",
   "name": "python3"
  },
  "language_info": {
   "codemirror_mode": {
    "name": "ipython",
    "version": 3
   },
   "file_extension": ".py",
   "mimetype": "text/x-python",
   "name": "python",
   "nbconvert_exporter": "python",
   "pygments_lexer": "ipython3",
   "version": "3.11.4"
  }
 },
 "nbformat": 4,
 "nbformat_minor": 5
}
